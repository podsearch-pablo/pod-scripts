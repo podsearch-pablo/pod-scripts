{
 "cells": [
  {
   "cell_type": "code",
   "execution_count": null,
   "id": "1bef37b3",
   "metadata": {},
   "outputs": [],
   "source": [
    "import json\n",
    "import math\n",
    "overall = []\n",
    "dct = {}"
   ]
  },
  {
   "cell_type": "code",
   "execution_count": null,
   "id": "8eeee34e",
   "metadata": {},
   "outputs": [],
   "source": [
    "with open('youtubeVids.json') as info:\n",
    "    dct = json.load(info)\n",
    "    "
   ]
  },
  {
   "cell_type": "code",
   "execution_count": null,
   "id": "5a6ce4fc",
   "metadata": {},
   "outputs": [],
   "source": [
    "for i in range(4,78):\n",
    "    \n",
    "    with open('json/' + str(i) + '.json') as json_file:\n",
    "        data = json.load(json_file)\n",
    "        data['info'] = dct[str(i)]\n",
    "        overall.append(data)\n",
    "        \n"
   ]
  },
  {
   "cell_type": "code",
   "execution_count": null,
   "id": "08110f71",
   "metadata": {},
   "outputs": [],
   "source": [
    "\n",
    "import math\n",
    "import requests\n",
    "\n",
    "tot = 0\n",
    "ind = 0\n",
    "a = 10\n",
    "for i in range(0,len(overall[a]['segments'])):\n",
    "    tot += (abs(overall[a]['segments'][i]['start'] - overall[a]['segments'][i]['end']))\n",
    "    ind+=1\n",
    "\n",
    "print(tot/ind)"
   ]
  },
  {
   "cell_type": "code",
   "execution_count": null,
   "id": "35b106cb",
   "metadata": {},
   "outputs": [],
   "source": [
    "print(data['segments'][0].keys())"
   ]
  },
  {
   "cell_type": "code",
   "execution_count": null,
   "id": "dcdb8451",
   "metadata": {},
   "outputs": [],
   "source": [
    "def checkExists(word):\n",
    "    print(data['text'].index(word))\n",
    "\n",
    "def getTimes(word):\n",
    "    times = []\n",
    "    i = 0\n",
    "    ind = 0\n",
    "    for jsonList in overall:\n",
    "\n",
    "        for lst in jsonList['segments']:\n",
    "            if (word in lst['text']):\n",
    "                lst['info'] = jsonList['info']\n",
    "                lst['dct'] = ind\n",
    "                times.append(lst)\n",
    "        ind+=1\n",
    "    return times"
   ]
  },
  {
   "cell_type": "code",
   "execution_count": null,
   "id": "f81f4ecc",
   "metadata": {},
   "outputs": [],
   "source": [
    "checkExists(\"how\")\n",
    "tot = 0\n",
    "for a in range(0,1000):\n",
    "    tot+=len(getTimes(\",\"))\n",
    "print(len(times))"
   ]
  },
  {
   "cell_type": "code",
   "execution_count": null,
   "id": "d10e9a9b",
   "metadata": {},
   "outputs": [],
   "source": [
    "searchingFor = 'San Francisco'\n",
    "ans = getTimes(searchingFor)"
   ]
  },
  {
   "cell_type": "code",
   "execution_count": null,
   "id": "7753d4a9",
   "metadata": {},
   "outputs": [],
   "source": [
    "print(len(ans))"
   ]
  },
  {
   "cell_type": "code",
   "execution_count": null,
   "id": "a82ef86f",
   "metadata": {},
   "outputs": [],
   "source": [
    "anses = []\n",
    "\n",
    "\n",
    "\n",
    "for nd in range(len(ans)):\n",
    "    \n",
    "    timeStart = ans[nd]['start']\n",
    "    print(\"TIME \" + str(timeStart))\n",
    "    \n",
    "    nope = False\n",
    "    \n",
    "    \n",
    "    current = ans[nd]['text']\n",
    "    id = ans[nd]['id']\n",
    "    #print(current)\n",
    "\n",
    "    newId = id\n",
    "\n",
    "    \n",
    "    count = 0\n",
    "    while ('.' not in current):\n",
    "        newId+=1\n",
    "#         print(len(overall[ans[nd]['dct']]['segments'][newId]['text']))\n",
    "        current = current + overall[ans[nd]['dct']]['segments'][newId]['text']\n",
    "        if (count>10):\n",
    "#             print()\n",
    "            print(str(ans[nd]['dct']))\n",
    "#             print(\"ISSUE WITH THIS ONE\")\n",
    "            nope = True\n",
    "            break\n",
    "        count+=1\n",
    "\n",
    "    if (nope):\n",
    "        continue\n",
    "\n",
    "\n",
    "    if (current.index('.')>current.index(searchingFor)):\n",
    "        current = current[:current.index('.')+2]\n",
    "\n",
    "    count = 0\n",
    "    while (current.count('.')<2):\n",
    "        id-=1\n",
    "#         print(len(overall[ans[nd]['dct']]['segments'][id]['text']))\n",
    "        current = overall[ans[nd]['dct']]['segments'][id]['text'] + current \n",
    "        timeStart = overall[ans[nd]['dct']]['segments'][id]['start']\n",
    "        #print(timeStart)\n",
    "        if (count>10):\n",
    "#             print()\n",
    "            print(str(ans[nd]['dct']))\n",
    "#             print(\"ISSUE WITH THIS ONE\" )\n",
    "            nope = True\n",
    "            break\n",
    "        count+=1\n",
    "    if (nope):\n",
    "        continue\n",
    "    youtubeURL = overall[ans[nd]['dct']]['info']['Link']\n",
    "\n",
    "        \n",
    "    anses.append((current.strip(), ans[nd]['dct'], timeStart, youtubeURL))\n",
    "#     print(current)\n",
    "#     print()\n",
    "# ind = current.index('.')\n",
    "# current = current[ind+2:]\n",
    "# print(current)"
   ]
  },
  {
   "cell_type": "code",
   "execution_count": null,
   "id": "816c77aa",
   "metadata": {},
   "outputs": [],
   "source": [
    "    \n",
    "\n",
    "ind = anses[0][1]\n",
    "\n",
    "results = []\n",
    "\n",
    "vidResults = {}\n",
    "\n",
    "\n",
    "\n",
    "nextResult = {}\n",
    "\n",
    "vidResults['Name'] = overall[anses[0][1]]['info']['Name']\n",
    "vidResults['Clips'] = []\n",
    "\n",
    "print(vidResults['Name'])\n",
    "\n",
    "\n",
    "\n",
    "\n",
    "for line in anses:\n",
    "    if (line[1]!=ind):\n",
    "        print()\n",
    "        print()\n",
    "        print()\n",
    "        print()\n",
    "        ind=line[1]\n",
    "        \n",
    "        results.append(vidResults)\n",
    "        vidResults = {}\n",
    "        vidResults['Name'] = overall[ind]['info']['Name']\n",
    "        vidResults['Clips'] = []\n",
    "        \n",
    "        print(overall[ind]['info']['Name'])\n",
    "        \n",
    "        print()\n",
    "    \n",
    "    nextResult['text']=str(line[0])\n",
    "    nextResult['link']='https://youtu.be/' + str(line[3][28:]) + '?t=' + str(int(line[2]))\n",
    "    nextResult['exactTime']=line[2]\n",
    "    \n",
    "    vidResults['Clips'].append(nextResult)\n",
    "    \n",
    "    nextResult = {}\n",
    "    \n",
    "    print(str(line[0]))\n",
    "    print('https://youtu.be/' + str(line[3][28:]) + '?t=' + str(int(line[2])))\n",
    "    print(line[2])\n",
    "    print()\n",
    "\n",
    "results.append(vidResults)"
   ]
  },
  {
   "cell_type": "code",
   "execution_count": null,
   "id": "a65ee53c",
   "metadata": {},
   "outputs": [],
   "source": [
    "# def saveImageFromYTID(ytID,saveID):    \n",
    "#     img_data = requests.get('https://img.youtube.com/vi/' + str(ytID) + '/maxresdefault.jpg').content\n",
    "#     with open(str(saveID) + '.jpg', 'wb') as handler:\n",
    "#         handler.write(img_data)\n"
   ]
  },
  {
   "cell_type": "code",
   "execution_count": null,
   "id": "826e9f34",
   "metadata": {},
   "outputs": [],
   "source": [
    "#  for index in range(len(dct)):\n",
    "#         saveImageFromYTID(dct[str(index)]['Link'][28:], index)"
   ]
  },
  {
   "cell_type": "code",
   "execution_count": null,
   "id": "f3504b54",
   "metadata": {},
   "outputs": [],
   "source": [
    "from datetime import timedelta\n",
    "\n",
    "sec = 300\n",
    "print('Seconds:', sec)\n",
    "\n",
    "td = timedelta(seconds=sec)\n",
    "print('hh:mm:ss:', td)\n",
    "\n",
    "print(str(timedelta(seconds=sec)))\n"
   ]
  },
  {
   "cell_type": "code",
   "execution_count": null,
   "id": "c7f1e16b",
   "metadata": {},
   "outputs": [],
   "source": [
    "from functools import cmp_to_key\n",
    "\n",
    "def compare(dct1, dct2):\n",
    "    \n",
    "    if len(dct1['Clips']) < len(dct2['Clips']):\n",
    "        return 1\n",
    "    elif len(dct1['Clips']) > len(dct2['Clips']):\n",
    "        return -1\n",
    "    else:\n",
    "        return 0\n",
    "\n",
    "# Calling\n",
    "\n"
   ]
  },
  {
   "cell_type": "code",
   "execution_count": null,
   "id": "6ba014ab",
   "metadata": {
    "scrolled": true
   },
   "outputs": [],
   "source": [
    "results = sorted(results, key=cmp_to_key(compare))\n",
    "\n",
    "for val in results:\n",
    "    print(\"NAME IS \" + str(val['Name']))\n",
    "    for adct in val['Clips']:\n",
    "        print(adct['text'])\n",
    "        print(adct['link'])\n",
    "    print()\n",
    "    print()\n"
   ]
  },
  {
   "cell_type": "code",
   "execution_count": null,
   "id": "82444f80",
   "metadata": {},
   "outputs": [],
   "source": []
  },
  {
   "cell_type": "code",
   "execution_count": null,
   "id": "c0ffe15d",
   "metadata": {
    "scrolled": true
   },
   "outputs": [],
   "source": [
    "\n"
   ]
  },
  {
   "cell_type": "code",
   "execution_count": null,
   "id": "75208899",
   "metadata": {},
   "outputs": [],
   "source": []
  }
 ],
 "metadata": {
  "kernelspec": {
   "display_name": "Python 3 (ipykernel)",
   "language": "python",
   "name": "python3"
  },
  "language_info": {
   "codemirror_mode": {
    "name": "ipython",
    "version": 3
   },
   "file_extension": ".py",
   "mimetype": "text/x-python",
   "name": "python",
   "nbconvert_exporter": "python",
   "pygments_lexer": "ipython3",
   "version": "3.10.8"
  }
 },
 "nbformat": 4,
 "nbformat_minor": 5
}
