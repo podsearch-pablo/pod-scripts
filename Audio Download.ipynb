{
 "cells": [
  {
   "cell_type": "code",
   "execution_count": 2,
   "id": "70945876",
   "metadata": {},
   "outputs": [],
   "source": [
    "import pandas as pd\n",
    "import json"
   ]
  },
  {
   "cell_type": "code",
   "execution_count": 3,
   "id": "07b45629",
   "metadata": {},
   "outputs": [],
   "source": [
    "def getURL(id):\n",
    "    return (\"https://youtube.com/watch?v=\" + str(id))"
   ]
  },
  {
   "cell_type": "code",
   "execution_count": 10,
   "id": "b8233abf",
   "metadata": {
    "scrolled": false
   },
   "outputs": [
    {
     "name": "stdout",
     "output_type": "stream",
     "text": [
      "248\n"
     ]
    }
   ],
   "source": [
    "\n",
    "print(len(dct))"
   ]
  },
  {
   "cell_type": "code",
   "execution_count": 4,
   "id": "92e4c429",
   "metadata": {},
   "outputs": [],
   "source": [
    "dct = {}\n",
    "id = 0\n",
    "\n",
    "    \n",
    "with open('file.csv') as youtubelinks:\n",
    "    for link in youtubelinks:\n",
    "        \n",
    "        #Create dict for each video\n",
    "        ytbDct = {}\n",
    "        \n",
    "        #Load youtube name\n",
    "        ytbDct['Name'] = link[12:]\n",
    "        \n",
    "        #Get rid of newline\n",
    "        ytbDct['Name'] = ytbDct['Name'][:-1]\n",
    "        \n",
    "        #Load Link\n",
    "        ytbDct['Link'] = getURL(link[:11])\n",
    "        \n",
    "        #Add to overall Dict\n",
    "        dct[id]=ytbDct\n",
    "        \n",
    "        id+=1"
   ]
  },
  {
   "cell_type": "code",
   "execution_count": 5,
   "id": "43d22778",
   "metadata": {
    "scrolled": false
   },
   "outputs": [],
   "source": [
    "with open(\"youtubeVids.json\", \"w\") as outfile:\n",
    "    json.dump(dct, outfile)"
   ]
  },
  {
   "cell_type": "code",
   "execution_count": 11,
   "id": "c06cf152",
   "metadata": {
    "scrolled": true
   },
   "outputs": [
    {
     "name": "stdout",
     "output_type": "stream",
     "text": [
      "https://youtube.com/watch?v=zPVZcvgB1P4\n",
      "[youtube] zPVZcvgB1P4: Downloading webpage\n",
      "[download] 229.mp3 has already been downloaded\n",
      "[download] 100% of 2.17MiB\n",
      "[ffmpeg] Correcting container in \"229.mp3\"\n",
      "[ffmpeg] Post-process file 229.mp3 exists, skipping\n",
      "https://youtube.com/watch?v=9tv5clYvqOk\n",
      "[youtube] 9tv5clYvqOk: Downloading webpage\n",
      "[download] Destination: 230.mp3\n",
      "[download] 100% of 4.65MiB in 00:5917KiB/s ETA 00:006\n",
      "[ffmpeg] Post-process file 230.mp3 exists, skipping\n",
      "https://youtube.com/watch?v=hpJ_umfsdpA\n",
      "[youtube] hpJ_umfsdpA: Downloading webpage\n",
      "[download] Destination: 231.mp3\n",
      "[download] 100% of 5.04MiB in 01:4576KiB/s ETA 00:00\n",
      "[ffmpeg] Post-process file 231.mp3 exists, skipping\n",
      "https://youtube.com/watch?v=8nDV8snjSGY\n",
      "[youtube] 8nDV8snjSGY: Downloading webpage\n",
      "[download] Destination: 232.mp3\n",
      "[download] 100% of 1.96MiB in 00:3786KiB/s ETA 00:00\n",
      "[ffmpeg] Post-process file 232.mp3 exists, skipping\n",
      "https://youtube.com/watch?v=NI5oVNeA2cw\n",
      "[youtube] NI5oVNeA2cw: Downloading webpage\n",
      "[download] Destination: 233.mp3\n",
      "[download] 100% of 3.12MiB in 00:4138KiB/s ETA 00:000\n",
      "[ffmpeg] Post-process file 233.mp3 exists, skipping\n",
      "https://youtube.com/watch?v=fkJk_g9wag0\n",
      "[youtube] fkJk_g9wag0: Downloading webpage\n",
      "[youtube] fkJk_g9wag0: Downloading MPD manifest\n",
      "[download] Destination: 234.mp3\n",
      "[download] 100% of 2.60MiB in 00:3173KiB/s ETA 00:004\n",
      "[ffmpeg] Post-process file 234.mp3 exists, skipping\n",
      "https://youtube.com/watch?v=fqLVb0Gb9G4\n",
      "[youtube] fqLVb0Gb9G4: Downloading webpage\n",
      "[youtube] fqLVb0Gb9G4: Downloading MPD manifest\n",
      "[download] Destination: 235.mp3\n",
      "[download] 100% of 2.87MiB in 00:5475KiB/s ETA 00:00\n",
      "[ffmpeg] Correcting container in \"235.mp3\"\n",
      "[ffmpeg] Post-process file 235.mp3 exists, skipping\n",
      "https://youtube.com/watch?v=1VwwLH5FCKs\n",
      "[youtube] 1VwwLH5FCKs: Downloading webpage\n",
      "[download] Destination: 236.mp3\n",
      "[download] 100% of 8.57MiB in 03:0204KiB/s ETA 00:00\n",
      "[ffmpeg] Correcting container in \"236.mp3\"\n",
      "[ffmpeg] Post-process file 236.mp3 exists, skipping\n",
      "https://youtube.com/watch?v=QW8CW6CXo54\n",
      "[youtube] QW8CW6CXo54: Downloading webpage\n",
      "[download] Destination: 237.mp3\n",
      "[download] 100% of 7.44MiB in 01:5540KiB/s ETA 00:00\n",
      "[ffmpeg] Post-process file 237.mp3 exists, skipping\n",
      "https://youtube.com/watch?v=F29rbezLL94\n",
      "[youtube] F29rbezLL94: Downloading webpage\n",
      "[youtube] F29rbezLL94: Downloading MPD manifest\n",
      "[download] Destination: 238.mp3\n",
      "[download] 100% of 1.93MiB in 00:3223KiB/s ETA 00:00\n",
      "[ffmpeg] Post-process file 238.mp3 exists, skipping\n",
      "https://youtube.com/watch?v=qt2xEQxcYsg\n",
      "[youtube] qt2xEQxcYsg: Downloading webpage\n",
      "[download] Destination: 239.mp3\n",
      "[download] 100% of 4.58MiB in 01:3021KiB/s ETA 00:00\n",
      "[ffmpeg] Correcting container in \"239.mp3\"\n",
      "[ffmpeg] Post-process file 239.mp3 exists, skipping\n",
      "https://youtube.com/watch?v=Up5aADUVagU\n",
      "[youtube] Up5aADUVagU: Downloading webpage\n",
      "[download] Destination: 240.mp3\n",
      "[download] 100% of 5.60MiB in 02:0651KiB/s ETA 00:00\n",
      "[ffmpeg] Post-process file 240.mp3 exists, skipping\n",
      "https://youtube.com/watch?v=xcaSBHB9dbE\n",
      "[youtube] xcaSBHB9dbE: Downloading webpage\n",
      "[youtube] xcaSBHB9dbE: Downloading MPD manifest\n",
      "[download] Destination: 241.mp3\n",
      "[download] 100% of 3.43MiB in 01:1764KiB/s ETA 00:00\n",
      "[ffmpeg] Correcting container in \"241.mp3\"\n",
      "[ffmpeg] Post-process file 241.mp3 exists, skipping\n",
      "https://youtube.com/watch?v=pLsQVs5l87Y\n",
      "[youtube] pLsQVs5l87Y: Downloading webpage\n",
      "[youtube] pLsQVs5l87Y: Downloading MPD manifest\n",
      "[download] Destination: 242.mp3\n",
      "[download] 100% of 2.47MiB in 00:4814KiB/s ETA 00:00\n",
      "[ffmpeg] Post-process file 242.mp3 exists, skipping\n",
      "https://youtube.com/watch?v=YUx-PavD7EA\n",
      "[youtube] YUx-PavD7EA: Downloading webpage\n",
      "[download] Destination: 243.mp3\n",
      "[download] 100% of 3.18MiB in 00:3963KiB/s ETA 00:008\n",
      "[ffmpeg] Post-process file 243.mp3 exists, skipping\n",
      "https://youtube.com/watch?v=KRIpc_oN_zQ\n",
      "[youtube] KRIpc_oN_zQ: Downloading webpage\n",
      "[download] Destination: 244.mp3\n",
      "[download] 100% of 2.60MiB in 00:4167KiB/s ETA 00:00\n",
      "[ffmpeg] Correcting container in \"244.mp3\"\n",
      "[ffmpeg] Post-process file 244.mp3 exists, skipping\n",
      "https://youtube.com/watch?v=34LNfDnaNDw\n",
      "[youtube] 34LNfDnaNDw: Downloading webpage\n",
      "[download] Destination: 245.mp3\n",
      "[download] 100% of 3.59MiB in 01:2053KiB/s ETA 00:00\n",
      "[ffmpeg] Post-process file 245.mp3 exists, skipping\n",
      "https://youtube.com/watch?v=Igr_QCVGR-0\n",
      "[youtube] Igr_QCVGR-0: Downloading webpage\n",
      "[download] Destination: 246.mp3\n",
      "[download] 100% of 3.58MiB in 00:5386KiB/s ETA 00:00\n",
      "[ffmpeg] Correcting container in \"246.mp3\"\n",
      "[ffmpeg] Post-process file 246.mp3 exists, skipping\n",
      "https://youtube.com/watch?v=-HV9VRPIoag\n",
      "[youtube] -HV9VRPIoag: Downloading webpage\n",
      "[download] Destination: 247.mp3\n",
      "[download] 100% of 3.60MiB in 00:4713KiB/s ETA 00:005\n",
      "[ffmpeg] Correcting container in \"247.mp3\"\n",
      "[ffmpeg] Post-process file 247.mp3 exists, skipping\n"
     ]
    }
   ],
   "source": [
    "from __future__ import unicode_literals\n",
    "import youtube_dl\n",
    "start = 229\n",
    "\n",
    "for id in dct.keys():\n",
    "    \n",
    "    if (int(id)<start):\n",
    "        continue\n",
    "        \n",
    "    print(dct[id]['Link'])\n",
    "    \n",
    "    ydl_opts = {\n",
    "        'format': 'bestaudio/best',\n",
    "        'outtmpl': str(id) + '.mp3',\n",
    "        'postprocessors': [{\n",
    "            'key': 'FFmpegExtractAudio',\n",
    "            'preferredcodec': 'mp3',\n",
    "            'preferredquality': '192',\n",
    "        }],\n",
    "    }\n",
    "    \n",
    "    with youtube_dl.YoutubeDL(ydl_opts) as ydl:\n",
    "        ydl.download([dct[id]['Link']])"
   ]
  },
  {
   "cell_type": "code",
   "execution_count": null,
   "id": "56148118",
   "metadata": {},
   "outputs": [],
   "source": []
  },
  {
   "cell_type": "code",
   "execution_count": null,
   "id": "54357056",
   "metadata": {},
   "outputs": [],
   "source": []
  }
 ],
 "metadata": {
  "kernelspec": {
   "display_name": "Python 3 (ipykernel)",
   "language": "python",
   "name": "python3"
  },
  "language_info": {
   "codemirror_mode": {
    "name": "ipython",
    "version": 3
   },
   "file_extension": ".py",
   "mimetype": "text/x-python",
   "name": "python",
   "nbconvert_exporter": "python",
   "pygments_lexer": "ipython3",
   "version": "3.10.8"
  }
 },
 "nbformat": 4,
 "nbformat_minor": 5
}
