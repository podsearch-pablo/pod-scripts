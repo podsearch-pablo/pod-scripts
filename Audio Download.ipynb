{
 "cells": [
  {
   "cell_type": "code",
   "execution_count": null,
   "id": "70945876",
   "metadata": {},
   "outputs": [],
   "source": [
    "import pandas as pd\n",
    "import json"
   ]
  },
  {
   "cell_type": "code",
   "execution_count": null,
   "id": "07b45629",
   "metadata": {},
   "outputs": [],
   "source": [
    "def getURL(id):\n",
    "    return (\"https://youtube.com/watch?v=\" + str(id))"
   ]
  },
  {
   "cell_type": "code",
   "execution_count": null,
   "id": "b8233abf",
   "metadata": {
    "scrolled": false
   },
   "outputs": [],
   "source": [
    "\n"
   ]
  },
  {
   "cell_type": "code",
   "execution_count": 4,
   "id": "92e4c429",
   "metadata": {},
   "outputs": [],
   "source": [
    "dct = {}\n",
    "id = 0\n",
    "\n",
    "    \n",
    "with open('file.csv') as youtubelinks:\n",
    "    for link in youtubelinks:\n",
    "        \n",
    "        #Create dict for each video\n",
    "        ytbDct = {}\n",
    "        \n",
    "        #Load youtube name\n",
    "        ytbDct['Name'] = link[12:]\n",
    "        \n",
    "        #Get rid of newline\n",
    "        ytbDct['Name'] = ytbDct['Name'][:-1]\n",
    "        \n",
    "        #Load Link\n",
    "        ytbDct['Link'] = getURL(link[:11])\n",
    "        \n",
    "        #Add to overall Dict\n",
    "        dct[id]=ytbDct\n",
    "        \n",
    "        id+=1"
   ]
  },
  {
   "cell_type": "code",
   "execution_count": 48,
   "id": "43d22778",
   "metadata": {
    "scrolled": false
   },
   "outputs": [],
   "source": [
    "with open(\"youtubeVids.json\", \"w\") as outfile:\n",
    "    json.dump(dct, outfile)"
   ]
  },
  {
   "cell_type": "code",
   "execution_count": null,
   "id": "c06cf152",
   "metadata": {
    "scrolled": true
   },
   "outputs": [
    {
     "name": "stdout",
     "output_type": "stream",
     "text": [
      "https://youtube.com/watch?v=tSU8GEt2Ylg\n",
      "[youtube] tSU8GEt2Ylg: Downloading webpage\n",
      "[download] Destination: 92.mp3\n",
      "[download] 100% of 12.57MiB in 02:5152KiB/s ETA 00:00\n",
      "[ffmpeg] Correcting container in \"92.mp3\"\n",
      "[ffmpeg] Post-process file 92.mp3 exists, skipping\n",
      "https://youtube.com/watch?v=Nfqo3cGmrJ4\n",
      "[youtube] Nfqo3cGmrJ4: Downloading webpage\n",
      "[download] Destination: 93.mp3\n",
      "[download] 100% of 10.88MiB in 03:2626KiB/s ETA 00:00\n",
      "[ffmpeg] Correcting container in \"93.mp3\"\n",
      "[ffmpeg] Post-process file 93.mp3 exists, skipping\n",
      "https://youtube.com/watch?v=fyt-E1A-jwc\n",
      "[youtube] fyt-E1A-jwc: Downloading webpage\n",
      "[download] Destination: 94.mp3\n",
      "[download] 100% of 15.25MiB in 03:1521KiB/s ETA 00:000\n",
      "[ffmpeg] Correcting container in \"94.mp3\"\n",
      "[ffmpeg] Post-process file 94.mp3 exists, skipping\n",
      "https://youtube.com/watch?v=1WQbMVhIMEY\n",
      "[youtube] 1WQbMVhIMEY: Downloading webpage\n",
      "[download] Destination: 95.mp3\n",
      "[download] 100% of 10.58MiB in 02:2047KiB/s ETA 00:006\n",
      "[ffmpeg] Correcting container in \"95.mp3\"\n",
      "[ffmpeg] Post-process file 95.mp3 exists, skipping\n",
      "https://youtube.com/watch?v=5Xh8fAflpQY\n",
      "[youtube] 5Xh8fAflpQY: Downloading webpage\n",
      "[download] Destination: 96.mp3\n",
      "[download] 100% of 7.41MiB in 02:4650KiB/s ETA 00:00\n",
      "[ffmpeg] Post-process file 96.mp3 exists, skipping\n",
      "https://youtube.com/watch?v=q-7x6jaTA-0\n",
      "[youtube] q-7x6jaTA-0: Downloading webpage\n",
      "[download] Destination: 97.mp3\n",
      "[download] 100% of 11.98MiB in 04:1861KiB/s ETA 00:00\n",
      "[ffmpeg] Correcting container in \"97.mp3\"\n",
      "[ffmpeg] Post-process file 97.mp3 exists, skipping\n",
      "https://youtube.com/watch?v=ePAu90YVYMY\n",
      "[youtube] ePAu90YVYMY: Downloading webpage\n",
      "[download] Destination: 98.mp3\n",
      "[download] 100% of 12.36MiB in 02:5195KiB/s ETA 00:00\n",
      "[ffmpeg] Correcting container in \"98.mp3\"\n",
      "[ffmpeg] Post-process file 98.mp3 exists, skipping\n",
      "https://youtube.com/watch?v=y1QSLcAwiK0\n",
      "[youtube] y1QSLcAwiK0: Downloading webpage\n",
      "[download] Destination: 99.mp3\n",
      "[download] 100% of 9.63MiB in 03:0210KiB/s ETA 00:00\n",
      "[ffmpeg] Correcting container in \"99.mp3\"\n",
      "[ffmpeg] Post-process file 99.mp3 exists, skipping\n",
      "https://youtube.com/watch?v=hPM7DDuzjZY\n",
      "[youtube] hPM7DDuzjZY: Downloading webpage\n",
      "[download] Destination: 100.mp3\n",
      "[download] 100% of 11.18MiB in 02:2002KiB/s ETA 00:006\n",
      "[ffmpeg] Post-process file 100.mp3 exists, skipping\n",
      "https://youtube.com/watch?v=q3oKPfPtT2Q\n",
      "[youtube] q3oKPfPtT2Q: Downloading webpage\n",
      "[download] Destination: 101.mp3\n",
      "[download] 100% of 13.32MiB in 04:1619KiB/s ETA 00:00\n",
      "[ffmpeg] Correcting container in \"101.mp3\"\n",
      "[ffmpeg] Post-process file 101.mp3 exists, skipping\n",
      "https://youtube.com/watch?v=QzNOBP7IiDY\n",
      "[youtube] QzNOBP7IiDY: Downloading webpage\n",
      "[download] Destination: 102.mp3\n",
      "[download] 100% of 14.82MiB in 04:1132KiB/s ETA 00:00\n",
      "[ffmpeg] Correcting container in \"102.mp3\"\n",
      "[ffmpeg] Post-process file 102.mp3 exists, skipping\n",
      "https://youtube.com/watch?v=jNGUBzKadtw\n",
      "[youtube] jNGUBzKadtw: Downloading webpage\n",
      "[download] Destination: 103.mp3\n",
      "[download] 100% of 18.56MiB in 00:0197MiB/s ETA 00:00known ETA\n",
      "[ffmpeg] Correcting container in \"103.mp3\"\n",
      "[ffmpeg] Post-process file 103.mp3 exists, skipping\n",
      "https://youtube.com/watch?v=IMqiE_b5uPo\n",
      "[youtube] IMqiE_b5uPo: Downloading webpage\n",
      "[download] Destination: 104.mp3\n",
      "[download] 100% of 12.49MiB in 03:1246KiB/s ETA 00:00\n",
      "[ffmpeg] Correcting container in \"104.mp3\"\n",
      "[ffmpeg] Post-process file 104.mp3 exists, skipping\n",
      "https://youtube.com/watch?v=9JrPkteJVS4\n",
      "[youtube] 9JrPkteJVS4: Downloading webpage\n",
      "[download] Destination: 105.mp3\n",
      "[download]   3.6% of 12.05MiB at 54.11KiB/s ETA 03:39"
     ]
    }
   ],
   "source": [
    "from __future__ import unicode_literals\n",
    "import youtube_dl\n",
    "start = 92\n",
    "\n",
    "for id in dct.keys():\n",
    "    \n",
    "    if (int(id)<start):\n",
    "        continue\n",
    "        \n",
    "    print(dct[id]['Link'])\n",
    "    \n",
    "    ydl_opts = {\n",
    "        'format': 'bestaudio/best',\n",
    "        'outtmpl': str(id) + '.mp3',\n",
    "        'postprocessors': [{\n",
    "            'key': 'FFmpegExtractAudio',\n",
    "            'preferredcodec': 'mp3',\n",
    "            'preferredquality': '192',\n",
    "        }],\n",
    "    }\n",
    "    \n",
    "    with youtube_dl.YoutubeDL(ydl_opts) as ydl:\n",
    "        ydl.download([dct[id]['Link']])"
   ]
  },
  {
   "cell_type": "code",
   "execution_count": 16,
   "id": "56148118",
   "metadata": {},
   "outputs": [
    {
     "name": "stdout",
     "output_type": "stream",
     "text": [
      "howdy\n"
     ]
    }
   ],
   "source": []
  },
  {
   "cell_type": "code",
   "execution_count": null,
   "id": "54357056",
   "metadata": {},
   "outputs": [],
   "source": []
  }
 ],
 "metadata": {
  "kernelspec": {
   "display_name": "Python 3 (ipykernel)",
   "language": "python",
   "name": "python3"
  },
  "language_info": {
   "codemirror_mode": {
    "name": "ipython",
    "version": 3
   },
   "file_extension": ".py",
   "mimetype": "text/x-python",
   "name": "python",
   "nbconvert_exporter": "python",
   "pygments_lexer": "ipython3",
   "version": "3.10.8"
  }
 },
 "nbformat": 4,
 "nbformat_minor": 5
}
