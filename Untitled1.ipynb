{
 "cells": [
  {
   "cell_type": "code",
   "execution_count": 2,
   "id": "e7ee846c",
   "metadata": {},
   "outputs": [],
   "source": [
    "import threading\n",
    "import time\n",
    "import youtube_dl "
   ]
  },
  {
   "cell_type": "code",
   "execution_count": 5,
   "id": "863e6051",
   "metadata": {},
   "outputs": [
    {
     "name": "stdout",
     "output_type": "stream",
     "text": [
      "[youtube] tPEE9ZwTmy0: Downloading webpage\n",
      "[download] Destination: howdy.mp3\n",
      "[download] 100% of 16.73KiB in 00:0081KiB/s ETA 00:00\n",
      "[ffmpeg] Correcting container in \"howdy.mp3\"\n",
      "[ffmpeg] Post-process file howdy.mp3 exists, skipping\n"
     ]
    }
   ],
   "source": [
    "from __future__ import unicode_literals\n",
    "import youtube_dl\n",
    "\n",
    "\n",
    "ydl_opts = {\n",
    "    'format': 'bestaudio/best',\n",
    "    'outtmpl': 'howdy. mp3',\n",
    "    'postprocessors': [{\n",
    "        'key': 'FFmpegExtractAudio',\n",
    "        'preferredcodec': 'mp3',\n",
    "        'preferredquality': '192',\n",
    "    }],\n",
    "}\n",
    "\n",
    "with youtube_dl.YoutubeDL(ydl_opts) as ydl:\n",
    "    ydl.download(['https://www.youtube.com/watch?v=tPEE9ZwTmy0&ab_channel=MylotheCat'])"
   ]
  },
  {
   "cell_type": "code",
   "execution_count": null,
   "id": "fb18530f",
   "metadata": {},
   "outputs": [],
   "source": []
  }
 ],
 "metadata": {
  "kernelspec": {
   "display_name": "Python 3 (ipykernel)",
   "language": "python",
   "name": "python3"
  },
  "language_info": {
   "codemirror_mode": {
    "name": "ipython",
    "version": 3
   },
   "file_extension": ".py",
   "mimetype": "text/x-python",
   "name": "python",
   "nbconvert_exporter": "python",
   "pygments_lexer": "ipython3",
   "version": "3.10.8"
  }
 },
 "nbformat": 4,
 "nbformat_minor": 5
}
