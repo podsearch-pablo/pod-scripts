{
 "cells": [
  {
   "cell_type": "code",
   "execution_count": null,
   "id": "8a605709",
   "metadata": {},
   "outputs": [],
   "source": [
    "\n",
    "import whisper\n",
    "import json\n",
    "import os \n",
    "import time"
   ]
  },
  {
   "cell_type": "code",
   "execution_count": null,
   "id": "b288ad92",
   "metadata": {},
   "outputs": [],
   "source": [
    "model = whisper.load_model(\"base\")\n"
   ]
  },
  {
   "cell_type": "code",
   "execution_count": null,
   "id": "40671f3c",
   "metadata": {},
   "outputs": [],
   "source": [
    "for i in range(92,200):\n",
    "    print(\"LOOKING TO DO \" + str(i))\n",
    "    \n",
    "    while not os.path.exists(str(i) + \".mp3\"):\n",
    "        print(\"WAITING\")\n",
    "        time.sleep(100)\n",
    "    print(\"TRANSCRIBING \" + str(i))\n",
    "    text = model.transcribe(str(i) + \".mp3\")\n",
    "\n",
    "    with open(str(i) + \".json\", \"w\") as outfile:\n",
    "        json.dump(text, outfile)"
   ]
  },
  {
   "cell_type": "code",
   "execution_count": null,
   "id": "f4702985",
   "metadata": {},
   "outputs": [],
   "source": [
    "print(text)\n"
   ]
  },
  {
   "cell_type": "code",
   "execution_count": null,
   "id": "22d8fe02",
   "metadata": {},
   "outputs": [],
   "source": []
  },
  {
   "cell_type": "code",
   "execution_count": null,
   "id": "476704d4",
   "metadata": {},
   "outputs": [],
   "source": []
  }
 ],
 "metadata": {
  "kernelspec": {
   "display_name": "Python 3 (ipykernel)",
   "language": "python",
   "name": "python3"
  },
  "language_info": {
   "codemirror_mode": {
    "name": "ipython",
    "version": 3
   },
   "file_extension": ".py",
   "mimetype": "text/x-python",
   "name": "python",
   "nbconvert_exporter": "python",
   "pygments_lexer": "ipython3",
   "version": "3.10.8"
  }
 },
 "nbformat": 4,
 "nbformat_minor": 5
}
